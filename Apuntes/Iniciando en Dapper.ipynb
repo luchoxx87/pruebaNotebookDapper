{
 "cells": [
  {
   "cell_type": "markdown",
   "metadata": {},
   "source": [
    "## Como conectarse a Dapper con C#\n",
    "\n",
    "Vamos a ver como conectarnos a C# mediante haciendo uso de la librera _Dapper_. Es un micro ORM, es decir, una libreria capaz de llevar y traer instancias de objetos a una BD (MySQL en nuestro caso, pero lo puede hacer con cualquier BD que implemente las interfaces de ADO.NET).\n",
    "\n",
    "Vamos a ejecutar:\n",
    "\n",
    "```csharp\n",
    "#r \"nuget: Dapper, 2.1.35\"\n",
    "#r \"nuget: MySqlConnector, 2.3.7\"\n",
    "```"
   ]
  },
  {
   "cell_type": "code",
   "execution_count": 1,
   "metadata": {
    "dotnet_interactive": {
     "language": "csharp"
    },
    "polyglot_notebook": {
     "kernelName": "csharp"
    }
   },
   "outputs": [],
   "source": [
    "#r \"nuget: Dapper, 2.1.35\"\n",
    "#r \"nuget: MySqlConnector, 2.3.7\""
   ]
  },
  {
   "cell_type": "markdown",
   "metadata": {},
   "source": [
    "### Configurando la conexión\n",
    "\n",
    "Para esta parte, es necesario que le brindes información al conector para poder establecer la conexión con MySQL, completa las siguientes cadenas para poder establecer la conexión."
   ]
  },
  {
   "cell_type": "code",
   "execution_count": null,
   "metadata": {
    "dotnet_interactive": {
     "language": "csharp"
    },
    "polyglot_notebook": {
     "kernelName": "csharp"
    }
   },
   "outputs": [],
   "source": [
    "//cadena para conectarse a la bd MySQL en localhost (equipo local), a la bd 'bd_PokemonRPG', con el usuario '5to_agbd' y pass 'Trigg3rs!'\n",
    "string cadenaConexion = $\"Server=localhost;Database=bd_PokemonRPG;uid=5to_agbd;Password=Trigg3rs!;\";"
   ]
  },
  {
   "cell_type": "markdown",
   "metadata": {},
   "source": [
    "### Definiendo la estructura de datos\n",
    "\n",
    "Para la siguiente parte, vamos a usar la siguiente clase:"
   ]
  },
  {
   "cell_type": "code",
   "execution_count": null,
   "metadata": {
    "dotnet_interactive": {
     "language": "csharp"
    },
    "polyglot_notebook": {
     "kernelName": "csharp"
    }
   },
   "outputs": [],
   "source": [
    "public class Objeto\n",
    "{\n",
    "    public short Id { get; set; }\n",
    "    public string Nombre { get; set; }\n",
    "    public ushort PrecioVenta { get; set; }\n",
    "    public ushort PrecioCompra { get; set; }\n",
    "    public Objeto (short idObjeto, string nombre, ushort precioVenta, ushort precioCompra)\n",
    "        =>  (Id, Nombre, PrecioVenta, PrecioCompra) =\n",
    "            (idObjeto, nombre, precioVenta, precioCompra);\n",
    "    //La linea de arriba corresponde a constructor por tuplas, también se puede usar el Constructor Principal\n",
    "}"
   ]
  },
  {
   "cell_type": "markdown",
   "metadata": {},
   "source": [
    "### Ejecutando \n",
    "\n",
    "Para esta parte, es necesario que le brindes información al conector para poder establecer la conexión con MySQL, completa las siguientes cadenas para poder establecer la conexión."
   ]
  },
  {
   "cell_type": "code",
   "execution_count": 4,
   "metadata": {
    "dotnet_interactive": {
     "language": "csharp"
    },
    "polyglot_notebook": {
     "kernelName": "csharp"
    }
   },
   "outputs": [],
   "source": [
    "using System.Data;\n",
    "using MySqlConnector;\n",
    "using Dapper;\n",
    "\n",
    "using (IDbConnection db = new MySqlConnection(cadenaConexion))\n",
    "{\n",
    "    var objetos = db.Query<Objeto>(\"SELECT * FROM Objeto\");\n",
    "    foreach (var objeto in objetos)\n",
    "    {\n",
    "        Console.WriteLine($\"Id: {objeto.Id}, Nombre: {objeto.Nombre}\");\n",
    "    }\n",
    "}\n",
    "//public record Objeto(short IdObjeto, string Nombre, ushort PrecioVenta, ushort PrecioCompra);\n"
   ]
  },
  {
   "cell_type": "markdown",
   "metadata": {},
   "source": [
    "[<<-- Indice 📖](../README.md#indice-)"
   ]
  }
 ],
 "metadata": {
  "kernelspec": {
   "display_name": ".NET (C#)",
   "language": "C#",
   "name": ".net-csharp"
  },
  "polyglot_notebook": {
   "kernelInfo": {
    "defaultKernelName": "csharp",
    "items": [
     {
      "aliases": [],
      "languageName": "csharp",
      "name": "csharp"
     }
    ]
   }
  }
 },
 "nbformat": 4,
 "nbformat_minor": 2
}
